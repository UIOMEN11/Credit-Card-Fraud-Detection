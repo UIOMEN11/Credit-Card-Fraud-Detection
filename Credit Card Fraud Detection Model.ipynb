{
 "cells": [
  {
   "cell_type": "code",
   "execution_count": 1,
   "id": "dfbde86a",
   "metadata": {},
   "outputs": [
    {
     "name": "stderr",
     "output_type": "stream",
     "text": [
      "C:\\Users\\ADITYA\\anaconda3\\lib\\site-packages\\pandas\\core\\computation\\expressions.py:21: UserWarning: Pandas requires version '2.8.4' or newer of 'numexpr' (version '2.8.1' currently installed).\n",
      "  from pandas.core.computation.check import NUMEXPR_INSTALLED\n",
      "C:\\Users\\ADITYA\\anaconda3\\lib\\site-packages\\pandas\\core\\arrays\\masked.py:60: UserWarning: Pandas requires version '1.3.6' or newer of 'bottleneck' (version '1.3.4' currently installed).\n",
      "  from pandas.core import (\n"
     ]
    }
   ],
   "source": [
    "import pandas as pd\n",
    "import matplotlib.pyplot as plt"
   ]
  },
  {
   "cell_type": "code",
   "execution_count": 2,
   "id": "52bd1446",
   "metadata": {},
   "outputs": [],
   "source": [
    "data = pd.read_csv('card_transdata.csv')\n"
   ]
  },
  {
   "cell_type": "code",
   "execution_count": 3,
   "id": "6c8f1cdf",
   "metadata": {},
   "outputs": [
    {
     "data": {
      "text/html": [
       "<div>\n",
       "<style scoped>\n",
       "    .dataframe tbody tr th:only-of-type {\n",
       "        vertical-align: middle;\n",
       "    }\n",
       "\n",
       "    .dataframe tbody tr th {\n",
       "        vertical-align: top;\n",
       "    }\n",
       "\n",
       "    .dataframe thead th {\n",
       "        text-align: right;\n",
       "    }\n",
       "</style>\n",
       "<table border=\"1\" class=\"dataframe\">\n",
       "  <thead>\n",
       "    <tr style=\"text-align: right;\">\n",
       "      <th></th>\n",
       "      <th>distance_from_home</th>\n",
       "      <th>distance_from_last_transaction</th>\n",
       "      <th>ratio_to_median_purchase_price</th>\n",
       "      <th>repeat_retailer</th>\n",
       "      <th>used_chip</th>\n",
       "      <th>used_pin_number</th>\n",
       "      <th>online_order</th>\n",
       "      <th>fraud</th>\n",
       "    </tr>\n",
       "  </thead>\n",
       "  <tbody>\n",
       "    <tr>\n",
       "      <th>0</th>\n",
       "      <td>57.877857</td>\n",
       "      <td>0.311140</td>\n",
       "      <td>1.945940</td>\n",
       "      <td>1.0</td>\n",
       "      <td>1.0</td>\n",
       "      <td>0.0</td>\n",
       "      <td>0.0</td>\n",
       "      <td>0.0</td>\n",
       "    </tr>\n",
       "    <tr>\n",
       "      <th>1</th>\n",
       "      <td>10.829943</td>\n",
       "      <td>0.175592</td>\n",
       "      <td>1.294219</td>\n",
       "      <td>1.0</td>\n",
       "      <td>0.0</td>\n",
       "      <td>0.0</td>\n",
       "      <td>0.0</td>\n",
       "      <td>0.0</td>\n",
       "    </tr>\n",
       "    <tr>\n",
       "      <th>2</th>\n",
       "      <td>5.091079</td>\n",
       "      <td>0.805153</td>\n",
       "      <td>0.427715</td>\n",
       "      <td>1.0</td>\n",
       "      <td>0.0</td>\n",
       "      <td>0.0</td>\n",
       "      <td>1.0</td>\n",
       "      <td>0.0</td>\n",
       "    </tr>\n",
       "    <tr>\n",
       "      <th>3</th>\n",
       "      <td>2.247564</td>\n",
       "      <td>5.600044</td>\n",
       "      <td>0.362663</td>\n",
       "      <td>1.0</td>\n",
       "      <td>1.0</td>\n",
       "      <td>0.0</td>\n",
       "      <td>1.0</td>\n",
       "      <td>0.0</td>\n",
       "    </tr>\n",
       "    <tr>\n",
       "      <th>4</th>\n",
       "      <td>44.190936</td>\n",
       "      <td>0.566486</td>\n",
       "      <td>2.222767</td>\n",
       "      <td>1.0</td>\n",
       "      <td>1.0</td>\n",
       "      <td>0.0</td>\n",
       "      <td>1.0</td>\n",
       "      <td>0.0</td>\n",
       "    </tr>\n",
       "  </tbody>\n",
       "</table>\n",
       "</div>"
      ],
      "text/plain": [
       "   distance_from_home  distance_from_last_transaction  \\\n",
       "0           57.877857                        0.311140   \n",
       "1           10.829943                        0.175592   \n",
       "2            5.091079                        0.805153   \n",
       "3            2.247564                        5.600044   \n",
       "4           44.190936                        0.566486   \n",
       "\n",
       "   ratio_to_median_purchase_price  repeat_retailer  used_chip  \\\n",
       "0                        1.945940              1.0        1.0   \n",
       "1                        1.294219              1.0        0.0   \n",
       "2                        0.427715              1.0        0.0   \n",
       "3                        0.362663              1.0        1.0   \n",
       "4                        2.222767              1.0        1.0   \n",
       "\n",
       "   used_pin_number  online_order  fraud  \n",
       "0              0.0           0.0    0.0  \n",
       "1              0.0           0.0    0.0  \n",
       "2              0.0           1.0    0.0  \n",
       "3              0.0           1.0    0.0  \n",
       "4              0.0           1.0    0.0  "
      ]
     },
     "execution_count": 3,
     "metadata": {},
     "output_type": "execute_result"
    }
   ],
   "source": [
    "data.head()"
   ]
  },
  {
   "cell_type": "code",
   "execution_count": 4,
   "id": "4ac81448",
   "metadata": {},
   "outputs": [
    {
     "data": {
      "text/html": [
       "<div>\n",
       "<style scoped>\n",
       "    .dataframe tbody tr th:only-of-type {\n",
       "        vertical-align: middle;\n",
       "    }\n",
       "\n",
       "    .dataframe tbody tr th {\n",
       "        vertical-align: top;\n",
       "    }\n",
       "\n",
       "    .dataframe thead th {\n",
       "        text-align: right;\n",
       "    }\n",
       "</style>\n",
       "<table border=\"1\" class=\"dataframe\">\n",
       "  <thead>\n",
       "    <tr style=\"text-align: right;\">\n",
       "      <th></th>\n",
       "      <th>distance_from_home</th>\n",
       "      <th>distance_from_last_transaction</th>\n",
       "      <th>ratio_to_median_purchase_price</th>\n",
       "      <th>repeat_retailer</th>\n",
       "      <th>used_chip</th>\n",
       "      <th>used_pin_number</th>\n",
       "      <th>online_order</th>\n",
       "      <th>fraud</th>\n",
       "    </tr>\n",
       "  </thead>\n",
       "  <tbody>\n",
       "    <tr>\n",
       "      <th>999995</th>\n",
       "      <td>2.207101</td>\n",
       "      <td>0.112651</td>\n",
       "      <td>1.626798</td>\n",
       "      <td>1.0</td>\n",
       "      <td>1.0</td>\n",
       "      <td>0.0</td>\n",
       "      <td>0.0</td>\n",
       "      <td>0.0</td>\n",
       "    </tr>\n",
       "    <tr>\n",
       "      <th>999996</th>\n",
       "      <td>19.872726</td>\n",
       "      <td>2.683904</td>\n",
       "      <td>2.778303</td>\n",
       "      <td>1.0</td>\n",
       "      <td>1.0</td>\n",
       "      <td>0.0</td>\n",
       "      <td>0.0</td>\n",
       "      <td>0.0</td>\n",
       "    </tr>\n",
       "    <tr>\n",
       "      <th>999997</th>\n",
       "      <td>2.914857</td>\n",
       "      <td>1.472687</td>\n",
       "      <td>0.218075</td>\n",
       "      <td>1.0</td>\n",
       "      <td>1.0</td>\n",
       "      <td>0.0</td>\n",
       "      <td>1.0</td>\n",
       "      <td>0.0</td>\n",
       "    </tr>\n",
       "    <tr>\n",
       "      <th>999998</th>\n",
       "      <td>4.258729</td>\n",
       "      <td>0.242023</td>\n",
       "      <td>0.475822</td>\n",
       "      <td>1.0</td>\n",
       "      <td>0.0</td>\n",
       "      <td>0.0</td>\n",
       "      <td>1.0</td>\n",
       "      <td>0.0</td>\n",
       "    </tr>\n",
       "    <tr>\n",
       "      <th>999999</th>\n",
       "      <td>58.108125</td>\n",
       "      <td>0.318110</td>\n",
       "      <td>0.386920</td>\n",
       "      <td>1.0</td>\n",
       "      <td>1.0</td>\n",
       "      <td>0.0</td>\n",
       "      <td>1.0</td>\n",
       "      <td>0.0</td>\n",
       "    </tr>\n",
       "  </tbody>\n",
       "</table>\n",
       "</div>"
      ],
      "text/plain": [
       "        distance_from_home  distance_from_last_transaction  \\\n",
       "999995            2.207101                        0.112651   \n",
       "999996           19.872726                        2.683904   \n",
       "999997            2.914857                        1.472687   \n",
       "999998            4.258729                        0.242023   \n",
       "999999           58.108125                        0.318110   \n",
       "\n",
       "        ratio_to_median_purchase_price  repeat_retailer  used_chip  \\\n",
       "999995                        1.626798              1.0        1.0   \n",
       "999996                        2.778303              1.0        1.0   \n",
       "999997                        0.218075              1.0        1.0   \n",
       "999998                        0.475822              1.0        0.0   \n",
       "999999                        0.386920              1.0        1.0   \n",
       "\n",
       "        used_pin_number  online_order  fraud  \n",
       "999995              0.0           0.0    0.0  \n",
       "999996              0.0           0.0    0.0  \n",
       "999997              0.0           1.0    0.0  \n",
       "999998              0.0           1.0    0.0  \n",
       "999999              0.0           1.0    0.0  "
      ]
     },
     "execution_count": 4,
     "metadata": {},
     "output_type": "execute_result"
    }
   ],
   "source": [
    "data.tail()"
   ]
  },
  {
   "cell_type": "code",
   "execution_count": 5,
   "id": "9cbe304c",
   "metadata": {},
   "outputs": [
    {
     "name": "stdout",
     "output_type": "stream",
     "text": [
      "<class 'pandas.core.frame.DataFrame'>\n",
      "RangeIndex: 1000000 entries, 0 to 999999\n",
      "Data columns (total 8 columns):\n",
      " #   Column                          Non-Null Count    Dtype  \n",
      "---  ------                          --------------    -----  \n",
      " 0   distance_from_home              1000000 non-null  float64\n",
      " 1   distance_from_last_transaction  1000000 non-null  float64\n",
      " 2   ratio_to_median_purchase_price  1000000 non-null  float64\n",
      " 3   repeat_retailer                 1000000 non-null  float64\n",
      " 4   used_chip                       1000000 non-null  float64\n",
      " 5   used_pin_number                 1000000 non-null  float64\n",
      " 6   online_order                    1000000 non-null  float64\n",
      " 7   fraud                           1000000 non-null  float64\n",
      "dtypes: float64(8)\n",
      "memory usage: 61.0 MB\n"
     ]
    }
   ],
   "source": [
    "data.info()"
   ]
  },
  {
   "cell_type": "code",
   "execution_count": 6,
   "id": "bf7847c3",
   "metadata": {},
   "outputs": [
    {
     "data": {
      "text/plain": [
       "(1000000, 8)"
      ]
     },
     "execution_count": 6,
     "metadata": {},
     "output_type": "execute_result"
    }
   ],
   "source": [
    "data.shape"
   ]
  },
  {
   "cell_type": "code",
   "execution_count": 7,
   "id": "afec605d",
   "metadata": {},
   "outputs": [
    {
     "data": {
      "text/html": [
       "<div>\n",
       "<style scoped>\n",
       "    .dataframe tbody tr th:only-of-type {\n",
       "        vertical-align: middle;\n",
       "    }\n",
       "\n",
       "    .dataframe tbody tr th {\n",
       "        vertical-align: top;\n",
       "    }\n",
       "\n",
       "    .dataframe thead th {\n",
       "        text-align: right;\n",
       "    }\n",
       "</style>\n",
       "<table border=\"1\" class=\"dataframe\">\n",
       "  <thead>\n",
       "    <tr style=\"text-align: right;\">\n",
       "      <th></th>\n",
       "      <th>distance_from_home</th>\n",
       "      <th>distance_from_last_transaction</th>\n",
       "      <th>ratio_to_median_purchase_price</th>\n",
       "      <th>repeat_retailer</th>\n",
       "      <th>used_chip</th>\n",
       "      <th>used_pin_number</th>\n",
       "      <th>online_order</th>\n",
       "      <th>fraud</th>\n",
       "    </tr>\n",
       "  </thead>\n",
       "  <tbody>\n",
       "    <tr>\n",
       "      <th>count</th>\n",
       "      <td>1000000.000000</td>\n",
       "      <td>1000000.000000</td>\n",
       "      <td>1000000.000000</td>\n",
       "      <td>1000000.000000</td>\n",
       "      <td>1000000.000000</td>\n",
       "      <td>1000000.000000</td>\n",
       "      <td>1000000.000000</td>\n",
       "      <td>1000000.000000</td>\n",
       "    </tr>\n",
       "    <tr>\n",
       "      <th>mean</th>\n",
       "      <td>26.628792</td>\n",
       "      <td>5.036519</td>\n",
       "      <td>1.824182</td>\n",
       "      <td>0.881536</td>\n",
       "      <td>0.350399</td>\n",
       "      <td>0.100608</td>\n",
       "      <td>0.650552</td>\n",
       "      <td>0.087403</td>\n",
       "    </tr>\n",
       "    <tr>\n",
       "      <th>std</th>\n",
       "      <td>65.390784</td>\n",
       "      <td>25.843093</td>\n",
       "      <td>2.799589</td>\n",
       "      <td>0.323157</td>\n",
       "      <td>0.477095</td>\n",
       "      <td>0.300809</td>\n",
       "      <td>0.476796</td>\n",
       "      <td>0.282425</td>\n",
       "    </tr>\n",
       "    <tr>\n",
       "      <th>min</th>\n",
       "      <td>0.004874</td>\n",
       "      <td>0.000118</td>\n",
       "      <td>0.004399</td>\n",
       "      <td>0.000000</td>\n",
       "      <td>0.000000</td>\n",
       "      <td>0.000000</td>\n",
       "      <td>0.000000</td>\n",
       "      <td>0.000000</td>\n",
       "    </tr>\n",
       "    <tr>\n",
       "      <th>25%</th>\n",
       "      <td>3.878008</td>\n",
       "      <td>0.296671</td>\n",
       "      <td>0.475673</td>\n",
       "      <td>1.000000</td>\n",
       "      <td>0.000000</td>\n",
       "      <td>0.000000</td>\n",
       "      <td>0.000000</td>\n",
       "      <td>0.000000</td>\n",
       "    </tr>\n",
       "    <tr>\n",
       "      <th>50%</th>\n",
       "      <td>9.967760</td>\n",
       "      <td>0.998650</td>\n",
       "      <td>0.997717</td>\n",
       "      <td>1.000000</td>\n",
       "      <td>0.000000</td>\n",
       "      <td>0.000000</td>\n",
       "      <td>1.000000</td>\n",
       "      <td>0.000000</td>\n",
       "    </tr>\n",
       "    <tr>\n",
       "      <th>75%</th>\n",
       "      <td>25.743985</td>\n",
       "      <td>3.355748</td>\n",
       "      <td>2.096370</td>\n",
       "      <td>1.000000</td>\n",
       "      <td>1.000000</td>\n",
       "      <td>0.000000</td>\n",
       "      <td>1.000000</td>\n",
       "      <td>0.000000</td>\n",
       "    </tr>\n",
       "    <tr>\n",
       "      <th>max</th>\n",
       "      <td>10632.723672</td>\n",
       "      <td>11851.104565</td>\n",
       "      <td>267.802942</td>\n",
       "      <td>1.000000</td>\n",
       "      <td>1.000000</td>\n",
       "      <td>1.000000</td>\n",
       "      <td>1.000000</td>\n",
       "      <td>1.000000</td>\n",
       "    </tr>\n",
       "  </tbody>\n",
       "</table>\n",
       "</div>"
      ],
      "text/plain": [
       "       distance_from_home  distance_from_last_transaction  \\\n",
       "count      1000000.000000                  1000000.000000   \n",
       "mean            26.628792                        5.036519   \n",
       "std             65.390784                       25.843093   \n",
       "min              0.004874                        0.000118   \n",
       "25%              3.878008                        0.296671   \n",
       "50%              9.967760                        0.998650   \n",
       "75%             25.743985                        3.355748   \n",
       "max          10632.723672                    11851.104565   \n",
       "\n",
       "       ratio_to_median_purchase_price  repeat_retailer       used_chip  \\\n",
       "count                  1000000.000000   1000000.000000  1000000.000000   \n",
       "mean                         1.824182         0.881536        0.350399   \n",
       "std                          2.799589         0.323157        0.477095   \n",
       "min                          0.004399         0.000000        0.000000   \n",
       "25%                          0.475673         1.000000        0.000000   \n",
       "50%                          0.997717         1.000000        0.000000   \n",
       "75%                          2.096370         1.000000        1.000000   \n",
       "max                        267.802942         1.000000        1.000000   \n",
       "\n",
       "       used_pin_number    online_order           fraud  \n",
       "count   1000000.000000  1000000.000000  1000000.000000  \n",
       "mean          0.100608        0.650552        0.087403  \n",
       "std           0.300809        0.476796        0.282425  \n",
       "min           0.000000        0.000000        0.000000  \n",
       "25%           0.000000        0.000000        0.000000  \n",
       "50%           0.000000        1.000000        0.000000  \n",
       "75%           0.000000        1.000000        0.000000  \n",
       "max           1.000000        1.000000        1.000000  "
      ]
     },
     "execution_count": 7,
     "metadata": {},
     "output_type": "execute_result"
    }
   ],
   "source": [
    "data.describe()"
   ]
  },
  {
   "cell_type": "code",
   "execution_count": 8,
   "id": "27cc71d5",
   "metadata": {},
   "outputs": [
    {
     "data": {
      "text/plain": [
       "Index(['distance_from_home', 'distance_from_last_transaction',\n",
       "       'ratio_to_median_purchase_price', 'repeat_retailer', 'used_chip',\n",
       "       'used_pin_number', 'online_order', 'fraud'],\n",
       "      dtype='object')"
      ]
     },
     "execution_count": 8,
     "metadata": {},
     "output_type": "execute_result"
    }
   ],
   "source": [
    "data.columns"
   ]
  },
  {
   "cell_type": "code",
   "execution_count": 9,
   "id": "bdbd7e3e",
   "metadata": {},
   "outputs": [
    {
     "data": {
      "text/plain": [
       "distance_from_home                float64\n",
       "distance_from_last_transaction    float64\n",
       "ratio_to_median_purchase_price    float64\n",
       "repeat_retailer                   float64\n",
       "used_chip                         float64\n",
       "used_pin_number                   float64\n",
       "online_order                      float64\n",
       "fraud                             float64\n",
       "dtype: object"
      ]
     },
     "execution_count": 9,
     "metadata": {},
     "output_type": "execute_result"
    }
   ],
   "source": [
    "data.dtypes"
   ]
  },
  {
   "cell_type": "markdown",
   "id": "2bd4e1cc",
   "metadata": {},
   "source": [
    "# Data Cleaning"
   ]
  },
  {
   "cell_type": "code",
   "execution_count": 10,
   "id": "fe6bf2ea",
   "metadata": {},
   "outputs": [
    {
     "name": "stdout",
     "output_type": "stream",
     "text": [
      "Rows with Missing values: \n",
      "0         False\n",
      "1         False\n",
      "2         False\n",
      "3         False\n",
      "4         False\n",
      "          ...  \n",
      "999995    False\n",
      "999996    False\n",
      "999997    False\n",
      "999998    False\n",
      "999999    False\n",
      "Length: 1000000, dtype: bool\n"
     ]
    }
   ],
   "source": [
    "missing_values = data.isnull().any(axis=1)\n",
    "print(\"Rows with Missing values: \")\n",
    "print(missing_values)"
   ]
  },
  {
   "cell_type": "code",
   "execution_count": 11,
   "id": "65ad4621",
   "metadata": {},
   "outputs": [],
   "source": [
    "# so there is no missing values in the dataset\n"
   ]
  },
  {
   "cell_type": "code",
   "execution_count": 12,
   "id": "140d3e2c",
   "metadata": {},
   "outputs": [
    {
     "name": "stdout",
     "output_type": "stream",
     "text": [
      "Duplicated rows: \n",
      "Empty DataFrame\n",
      "Columns: [distance_from_home, distance_from_last_transaction, ratio_to_median_purchase_price, repeat_retailer, used_chip, used_pin_number, online_order, fraud]\n",
      "Index: []\n"
     ]
    }
   ],
   "source": [
    "duplicate_rows = data[data.duplicated()]\n",
    "print(\"Duplicated rows: \")\n",
    "print(duplicate_rows)"
   ]
  },
  {
   "cell_type": "code",
   "execution_count": 13,
   "id": "fca1e5a5",
   "metadata": {},
   "outputs": [],
   "source": [
    "# this dataset doesnt have any duplicates"
   ]
  },
  {
   "cell_type": "code",
   "execution_count": null,
   "id": "8f2a314b",
   "metadata": {},
   "outputs": [],
   "source": []
  },
  {
   "cell_type": "code",
   "execution_count": 14,
   "id": "c288de79",
   "metadata": {},
   "outputs": [
    {
     "data": {
      "text/html": [
       "<div>\n",
       "<style scoped>\n",
       "    .dataframe tbody tr th:only-of-type {\n",
       "        vertical-align: middle;\n",
       "    }\n",
       "\n",
       "    .dataframe tbody tr th {\n",
       "        vertical-align: top;\n",
       "    }\n",
       "\n",
       "    .dataframe thead th {\n",
       "        text-align: right;\n",
       "    }\n",
       "</style>\n",
       "<table border=\"1\" class=\"dataframe\">\n",
       "  <thead>\n",
       "    <tr style=\"text-align: right;\">\n",
       "      <th></th>\n",
       "      <th>distance_from_home</th>\n",
       "      <th>distance_from_last_transaction</th>\n",
       "      <th>ratio_to_median_purchase_price</th>\n",
       "      <th>repeat_retailer</th>\n",
       "      <th>used_chip</th>\n",
       "      <th>used_pin_number</th>\n",
       "      <th>online_order</th>\n",
       "      <th>fraud</th>\n",
       "    </tr>\n",
       "  </thead>\n",
       "  <tbody>\n",
       "    <tr>\n",
       "      <th>0</th>\n",
       "      <td>57.877857</td>\n",
       "      <td>0.311140</td>\n",
       "      <td>1.945940</td>\n",
       "      <td>1.0</td>\n",
       "      <td>1.0</td>\n",
       "      <td>0.0</td>\n",
       "      <td>0.0</td>\n",
       "      <td>0.0</td>\n",
       "    </tr>\n",
       "    <tr>\n",
       "      <th>1</th>\n",
       "      <td>10.829943</td>\n",
       "      <td>0.175592</td>\n",
       "      <td>1.294219</td>\n",
       "      <td>1.0</td>\n",
       "      <td>0.0</td>\n",
       "      <td>0.0</td>\n",
       "      <td>0.0</td>\n",
       "      <td>0.0</td>\n",
       "    </tr>\n",
       "    <tr>\n",
       "      <th>2</th>\n",
       "      <td>5.091079</td>\n",
       "      <td>0.805153</td>\n",
       "      <td>0.427715</td>\n",
       "      <td>1.0</td>\n",
       "      <td>0.0</td>\n",
       "      <td>0.0</td>\n",
       "      <td>1.0</td>\n",
       "      <td>0.0</td>\n",
       "    </tr>\n",
       "    <tr>\n",
       "      <th>3</th>\n",
       "      <td>2.247564</td>\n",
       "      <td>5.600044</td>\n",
       "      <td>0.362663</td>\n",
       "      <td>1.0</td>\n",
       "      <td>1.0</td>\n",
       "      <td>0.0</td>\n",
       "      <td>1.0</td>\n",
       "      <td>0.0</td>\n",
       "    </tr>\n",
       "    <tr>\n",
       "      <th>4</th>\n",
       "      <td>44.190936</td>\n",
       "      <td>0.566486</td>\n",
       "      <td>2.222767</td>\n",
       "      <td>1.0</td>\n",
       "      <td>1.0</td>\n",
       "      <td>0.0</td>\n",
       "      <td>1.0</td>\n",
       "      <td>0.0</td>\n",
       "    </tr>\n",
       "  </tbody>\n",
       "</table>\n",
       "</div>"
      ],
      "text/plain": [
       "   distance_from_home  distance_from_last_transaction  \\\n",
       "0           57.877857                        0.311140   \n",
       "1           10.829943                        0.175592   \n",
       "2            5.091079                        0.805153   \n",
       "3            2.247564                        5.600044   \n",
       "4           44.190936                        0.566486   \n",
       "\n",
       "   ratio_to_median_purchase_price  repeat_retailer  used_chip  \\\n",
       "0                        1.945940              1.0        1.0   \n",
       "1                        1.294219              1.0        0.0   \n",
       "2                        0.427715              1.0        0.0   \n",
       "3                        0.362663              1.0        1.0   \n",
       "4                        2.222767              1.0        1.0   \n",
       "\n",
       "   used_pin_number  online_order  fraud  \n",
       "0              0.0           0.0    0.0  \n",
       "1              0.0           0.0    0.0  \n",
       "2              0.0           1.0    0.0  \n",
       "3              0.0           1.0    0.0  \n",
       "4              0.0           1.0    0.0  "
      ]
     },
     "execution_count": 14,
     "metadata": {},
     "output_type": "execute_result"
    }
   ],
   "source": [
    "data.head()"
   ]
  },
  {
   "cell_type": "code",
   "execution_count": 15,
   "id": "86fa267d",
   "metadata": {},
   "outputs": [],
   "source": [
    "# Now we will evaluate the security of chip and pin transactions method"
   ]
  },
  {
   "cell_type": "code",
   "execution_count": 16,
   "id": "d27a1463",
   "metadata": {},
   "outputs": [],
   "source": [
    "chippindf = data[[\"used_chip\",\"used_pin_number\",\"fraud\"]]"
   ]
  },
  {
   "cell_type": "code",
   "execution_count": 17,
   "id": "c04dfe96",
   "metadata": {},
   "outputs": [],
   "source": [
    "total_transactions = len(chippindf)\n",
    "# For legitimate tranaction value is 0\n",
    "# For fraud transcations value is 1"
   ]
  },
  {
   "cell_type": "code",
   "execution_count": 18,
   "id": "c203eec0",
   "metadata": {},
   "outputs": [],
   "source": [
    "total_fraud = chippindf[\"fraud\"].sum()\n",
    "fraud_by_chip = chippindf[chippindf[\"used_chip\"]==1][\"fraud\"].sum()\n",
    "fraud_by_pin = chippindf[chippindf[\"used_pin_number\"]==1][\"fraud\"].sum()"
   ]
  },
  {
   "cell_type": "code",
   "execution_count": 19,
   "id": "7e79655f",
   "metadata": {},
   "outputs": [
    {
     "name": "stdout",
     "output_type": "stream",
     "text": [
      "Total transactions: 1000000\n",
      "Total fraud cases: 87403.0\n",
      "Fraud cases using chip: 22410.0 out of 1000000\n",
      "Fraud cases using pin: 273.0 out of 1000000\n"
     ]
    }
   ],
   "source": [
    "print(\"Total transactions:\", total_transactions)\n",
    "print(\"Total fraud cases:\", total_fraud)\n",
    "print(\"Fraud cases using chip: {} out of {}\".format(fraud_by_chip,total_transactions))\n",
    "print(\"Fraud cases using pin: {} out of {}\".format(fraud_by_pin,total_transactions))"
   ]
  },
  {
   "cell_type": "code",
   "execution_count": 20,
   "id": "8ccff5c1",
   "metadata": {},
   "outputs": [
    {
     "data": {
      "text/plain": [
       "<function matplotlib.pyplot.show(close=None, block=None)>"
      ]
     },
     "execution_count": 20,
     "metadata": {},
     "output_type": "execute_result"
    },
    {
     "data": {
      "image/png": "[encoded data removed]",
      "text/plain": [
       "<Figure size 864x432 with 2 Axes>"
      ]
     },
     "metadata": {},
     "output_type": "display_data"
    }
   ],
   "source": [
    "labels_chip = [\"Non-Fraud\",\"Fraud\"]\n",
    "sizes_chip = [total_transactions - fraud_by_chip,fraud_by_chip]\n",
    "colors_chip = [\"lightskyblue\", \"lightcoral\"]\n",
    "labels_pin = [\"Non-Fraud\",\"Fraud\"]\n",
    "sizes_pin = [total_transactions - fraud_by_pin,fraud_by_pin]\n",
    "colors_pin = [\"lightskyblue\", \"lightcoral\"]\n",
    "plt.figure(figsize=(12,6))\n",
    "plt.subplot(1,2,1)\n",
    "plt.pie(sizes_chip,labels=labels_chip, colors=colors_chip, startangle=140)\n",
    "plt.axis(\"equal\")\n",
    "plt.title(\"Chip Transactions\")\n",
    "plt.subplot(1,2,2)\n",
    "plt.pie(sizes_pin,labels=labels_pin, colors=colors_pin, startangle=140)\n",
    "plt.axis(\"equal\")\n",
    "plt.title(\"Pin Transactions\")\n",
    "plt.suptitle(\"Fraud cases in Chip and pin transaction\")\n",
    "plt.show"
   ]
  },
  {
   "cell_type": "markdown",
   "id": "96a844b5",
   "metadata": {},
   "source": [
    "# Analasye Repeat Retailer Fraud"
   ]
  },
  {
   "cell_type": "code",
   "execution_count": 21,
   "id": "e98fc29a",
   "metadata": {},
   "outputs": [
    {
     "data": {
      "text/html": [
       "<div>\n",
       "<style scoped>\n",
       "    .dataframe tbody tr th:only-of-type {\n",
       "        vertical-align: middle;\n",
       "    }\n",
       "\n",
       "    .dataframe tbody tr th {\n",
       "        vertical-align: top;\n",
       "    }\n",
       "\n",
       "    .dataframe thead th {\n",
       "        text-align: right;\n",
       "    }\n",
       "</style>\n",
       "<table border=\"1\" class=\"dataframe\">\n",
       "  <thead>\n",
       "    <tr style=\"text-align: right;\">\n",
       "      <th></th>\n",
       "      <th>distance_from_home</th>\n",
       "      <th>distance_from_last_transaction</th>\n",
       "      <th>ratio_to_median_purchase_price</th>\n",
       "      <th>repeat_retailer</th>\n",
       "      <th>used_chip</th>\n",
       "      <th>used_pin_number</th>\n",
       "      <th>online_order</th>\n",
       "      <th>fraud</th>\n",
       "    </tr>\n",
       "  </thead>\n",
       "  <tbody>\n",
       "    <tr>\n",
       "      <th>0</th>\n",
       "      <td>57.877857</td>\n",
       "      <td>0.311140</td>\n",
       "      <td>1.945940</td>\n",
       "      <td>1.0</td>\n",
       "      <td>1.0</td>\n",
       "      <td>0.0</td>\n",
       "      <td>0.0</td>\n",
       "      <td>0.0</td>\n",
       "    </tr>\n",
       "    <tr>\n",
       "      <th>1</th>\n",
       "      <td>10.829943</td>\n",
       "      <td>0.175592</td>\n",
       "      <td>1.294219</td>\n",
       "      <td>1.0</td>\n",
       "      <td>0.0</td>\n",
       "      <td>0.0</td>\n",
       "      <td>0.0</td>\n",
       "      <td>0.0</td>\n",
       "    </tr>\n",
       "    <tr>\n",
       "      <th>2</th>\n",
       "      <td>5.091079</td>\n",
       "      <td>0.805153</td>\n",
       "      <td>0.427715</td>\n",
       "      <td>1.0</td>\n",
       "      <td>0.0</td>\n",
       "      <td>0.0</td>\n",
       "      <td>1.0</td>\n",
       "      <td>0.0</td>\n",
       "    </tr>\n",
       "    <tr>\n",
       "      <th>3</th>\n",
       "      <td>2.247564</td>\n",
       "      <td>5.600044</td>\n",
       "      <td>0.362663</td>\n",
       "      <td>1.0</td>\n",
       "      <td>1.0</td>\n",
       "      <td>0.0</td>\n",
       "      <td>1.0</td>\n",
       "      <td>0.0</td>\n",
       "    </tr>\n",
       "    <tr>\n",
       "      <th>4</th>\n",
       "      <td>44.190936</td>\n",
       "      <td>0.566486</td>\n",
       "      <td>2.222767</td>\n",
       "      <td>1.0</td>\n",
       "      <td>1.0</td>\n",
       "      <td>0.0</td>\n",
       "      <td>1.0</td>\n",
       "      <td>0.0</td>\n",
       "    </tr>\n",
       "  </tbody>\n",
       "</table>\n",
       "</div>"
      ],
      "text/plain": [
       "   distance_from_home  distance_from_last_transaction  \\\n",
       "0           57.877857                        0.311140   \n",
       "1           10.829943                        0.175592   \n",
       "2            5.091079                        0.805153   \n",
       "3            2.247564                        5.600044   \n",
       "4           44.190936                        0.566486   \n",
       "\n",
       "   ratio_to_median_purchase_price  repeat_retailer  used_chip  \\\n",
       "0                        1.945940              1.0        1.0   \n",
       "1                        1.294219              1.0        0.0   \n",
       "2                        0.427715              1.0        0.0   \n",
       "3                        0.362663              1.0        1.0   \n",
       "4                        2.222767              1.0        1.0   \n",
       "\n",
       "   used_pin_number  online_order  fraud  \n",
       "0              0.0           0.0    0.0  \n",
       "1              0.0           0.0    0.0  \n",
       "2              0.0           1.0    0.0  \n",
       "3              0.0           1.0    0.0  \n",
       "4              0.0           1.0    0.0  "
      ]
     },
     "execution_count": 21,
     "metadata": {},
     "output_type": "execute_result"
    }
   ],
   "source": [
    "data.head()"
   ]
  },
  {
   "cell_type": "code",
   "execution_count": 22,
   "id": "038cd35e",
   "metadata": {},
   "outputs": [],
   "source": [
    "repeat_retailer_df = data[data[\"repeat_retailer\"]==1]"
   ]
  },
  {
   "cell_type": "code",
   "execution_count": 23,
   "id": "4c39876d",
   "metadata": {},
   "outputs": [],
   "source": [
    "fraud_sequences = []\n",
    "current_sequence = []"
   ]
  },
  {
   "cell_type": "code",
   "execution_count": 24,
   "id": "79c4251f",
   "metadata": {},
   "outputs": [
    {
     "name": "stdout",
     "output_type": "stream",
     "text": [
      "Fraud Sequence 1: Repeat Retailer, Repeat Retailer, Repeat Retailer, Repeat Retailer, Repeat Retailer, Repeat Retailer, Repeat Retailer, Repeat Retailer, Repeat Retailer, Repeat Retailer, Repeat Retailer, Repeat Retailer\n",
      "Fraud Sequence 2: Repeat Retailer, Repeat Retailer, Repeat Retailer, Repeat Retailer, Repeat Retailer, Repeat Retailer, Repeat Retailer, Repeat Retailer, Repeat Retailer\n",
      "Fraud Sequence 3: Repeat Retailer, Repeat Retailer, Repeat Retailer, Repeat Retailer\n",
      "Fraud Sequence 4: Repeat Retailer, Repeat Retailer, Repeat Retailer, Repeat Retailer, Repeat Retailer\n",
      "Fraud Sequence 5: Repeat Retailer, Repeat Retailer, Repeat Retailer, Repeat Retailer, Repeat Retailer, Repeat Retailer, Repeat Retailer, Repeat Retailer, Repeat Retailer\n",
      "Fraud Sequence 6: Repeat Retailer, Repeat Retailer, Repeat Retailer, Repeat Retailer, Repeat Retailer\n",
      "Fraud Sequence 7: Repeat Retailer, Repeat Retailer, Repeat Retailer, Repeat Retailer, Repeat Retailer, Repeat Retailer, Repeat Retailer, Repeat Retailer, Repeat Retailer, Repeat Retailer, Repeat Retailer, Repeat Retailer, Repeat Retailer, Repeat Retailer, Repeat Retailer, Repeat Retailer, Repeat Retailer, Repeat Retailer, Repeat Retailer, Repeat Retailer, Repeat Retailer, Repeat Retailer, Repeat Retailer, Repeat Retailer, Repeat Retailer, Repeat Retailer, Repeat Retailer, Repeat Retailer, Repeat Retailer, Repeat Retailer, Repeat Retailer, Repeat Retailer, Repeat Retailer, Repeat Retailer, Repeat Retailer, Repeat Retailer, Repeat Retailer, Repeat Retailer, Repeat Retailer, Repeat Retailer, Repeat Retailer\n",
      "Fraud Sequence 8: Repeat Retailer\n",
      "Fraud Sequence 9: Repeat Retailer, Repeat Retailer, Repeat Retailer, Repeat Retailer, Repeat Retailer, Repeat Retailer\n",
      "Fraud Sequence 10: Repeat Retailer, Repeat Retailer, Repeat Retailer, Repeat Retailer, Repeat Retailer, Repeat Retailer, Repeat Retailer, Repeat Retailer, Repeat Retailer, Repeat Retailer, Repeat Retailer, Repeat Retailer, Repeat Retailer, Repeat Retailer, Repeat Retailer, Repeat Retailer, Repeat Retailer, Repeat Retailer, Repeat Retailer\n"
     ]
    }
   ],
   "source": [
    "for index, row in repeat_retailer_df.iterrows():\n",
    "    repeat_retailer, is_fraud = row['repeat_retailer'], row['fraud']\n",
    "\n",
    "    if is_fraud == 1:\n",
    "        if current_sequence:\n",
    "            fraud_sequences.append(current_sequence.copy())\n",
    "        current_sequence = []\n",
    "    else:\n",
    "        current_sequence.append('Repeat Retailer' if repeat_retailer == 1 else 'No Repeat Retailer')\n",
    "\n",
    "for i, sequence in enumerate(fraud_sequences[:10], start=1):\n",
    "    print(f\"Fraud Sequence {i}: {', '.join(sequence)}\")"
   ]
  },
  {
   "cell_type": "markdown",
   "id": "f3ffcbce",
   "metadata": {},
   "source": [
    "# Finding Relation between Transaction Amount and Fraud"
   ]
  },
  {
   "cell_type": "code",
   "execution_count": 25,
   "id": "0ef208c3",
   "metadata": {},
   "outputs": [
    {
     "name": "stdout",
     "output_type": "stream",
     "text": [
      "Correlation between transaction amount and fraud:0.46230472228826286\n"
     ]
    }
   ],
   "source": [
    "correlation_df = data[[\"ratio_to_median_purchase_price\",\"fraud\"]]\n",
    "\n",
    "correlation = correlation_df[\"ratio_to_median_purchase_price\"].corr(correlation_df[\"fraud\"])\n",
    "print(f\"Correlation between transaction amount and fraud:{correlation}\")"
   ]
  },
  {
   "cell_type": "code",
   "execution_count": 26,
   "id": "957901d1",
   "metadata": {},
   "outputs": [
    {
     "name": "stdout",
     "output_type": "stream",
     "text": [
      "Average ratio to median purchase price for non frudelent transactions: 1.423641855458059\n",
      "Average ratio to median purchase price for frudelent transactions: 6.006323490486969\n"
     ]
    }
   ],
   "source": [
    "avgnonfraudtransaction = correlation_df[correlation_df[\"fraud\"]==0][\"ratio_to_median_purchase_price\"].mean()\n",
    "avgfraudtransaction = correlation_df[correlation_df[\"fraud\"]==1][\"ratio_to_median_purchase_price\"].mean()\n",
    "print(f\"Average ratio to median purchase price for non frudelent transactions: {avgnonfraudtransaction}\")\n",
    "print(f\"Average ratio to median purchase price for frudelent transactions: {avgfraudtransaction}\")"
   ]
  },
  {
   "cell_type": "code",
   "execution_count": 27,
   "id": "590ee127",
   "metadata": {},
   "outputs": [
    {
     "data": {
      "image/png": "[encoded data removed]",
      "text/plain": [
       "<Figure size 432x288 with 1 Axes>"
      ]
     },
     "metadata": {
      "needs_background": "light"
     },
     "output_type": "display_data"
    }
   ],
   "source": [
    "categories = [\"Non-fraudulent\",\"Fraudulent\"]\n",
    "average_ratio = [avgnonfraudtransaction,avgfraudtransaction]\n",
    "plt.bar(categories,average_ratio,color=['blue','red'])\n",
    "plt.title(\"Ratio to Median Purchase Price\")\n",
    "plt.xlabel(\"Fraud Category\")\n",
    "plt.ylabel(\"Average ratio to median purchase price\")\n",
    "plt.show()"
   ]
  },
  {
   "cell_type": "markdown",
   "id": "e04b4fc1",
   "metadata": {},
   "source": [
    "# Analysing fraud cases in online transactions"
   ]
  },
  {
   "cell_type": "code",
   "execution_count": 28,
   "id": "221a4c5a",
   "metadata": {},
   "outputs": [],
   "source": [
    "# 0 -> Offline transaction\n",
    "# 1 -> Onlline transaction"
   ]
  },
  {
   "cell_type": "code",
   "execution_count": 29,
   "id": "75ec52ed",
   "metadata": {},
   "outputs": [],
   "source": [
    "online_order_df = data[[\"online_order\",\"fraud\"]]"
   ]
  },
  {
   "cell_type": "code",
   "execution_count": 30,
   "id": "a091dbf0",
   "metadata": {},
   "outputs": [
    {
     "name": "stdout",
     "output_type": "stream",
     "text": [
      "Fraud rate for online transactions: 12.71% (82711 cases out of 650552.0 online transactions)\n",
      "Fraud rate for offline transactions: 1.34% (4692 cases out of 349448.0 offline transactions)\n"
     ]
    }
   ],
   "source": [
    "total_online_orders = online_order_df[\"online_order\"].sum()\n",
    "total_online_fraud = online_order_df[(online_order_df[\"fraud\"]==1)&(online_order_df[\"online_order\"]==1)][\"fraud\"].count()\n",
    "fraud_rate_online = total_online_fraud/total_online_orders\n",
    "total_offline_orders = len(online_order_df) - total_online_orders\n",
    "total_offline_fraud = online_order_df[(online_order_df[\"fraud\"]==1)&(online_order_df[\"online_order\"]==0)][\"fraud\"].count()\n",
    "fraud_rate_offline = total_offline_fraud/total_offline_orders\n",
    "print(f\"Fraud rate for online transactions: {fraud_rate_online:.2%} ({total_online_fraud} cases out of {total_online_orders} online transactions)\")\n",
    "print(f\"Fraud rate for offline transactions: {fraud_rate_offline:.2%} ({total_offline_fraud} cases out of {total_offline_orders} offline transactions)\")"
   ]
  },
  {
   "cell_type": "markdown",
   "id": "dff859c6",
   "metadata": {},
   "source": [
    "# Feature Selection with Random Forest"
   ]
  },
  {
   "cell_type": "code",
   "execution_count": 31,
   "id": "c769bd3b",
   "metadata": {},
   "outputs": [
    {
     "name": "stderr",
     "output_type": "stream",
     "text": [
      "C:\\Users\\ADITYA\\anaconda3\\lib\\site-packages\\scipy\\__init__.py:146: UserWarning: A NumPy version >=1.16.5 and <1.23.0 is required for this version of SciPy (detected version 1.26.4\n",
      "  warnings.warn(f\"A NumPy version >={np_minversion} and <{np_maxversion}\"\n"
     ]
    }
   ],
   "source": [
    "from sklearn.ensemble import RandomForestClassifier\n",
    "from sklearn.model_selection import train_test_split"
   ]
  },
  {
   "cell_type": "code",
   "execution_count": 32,
   "id": "68962585",
   "metadata": {},
   "outputs": [],
   "source": [
    "X = data.drop(\"fraud\",axis=1)\n",
    "y = data[\"fraud\"]"
   ]
  },
  {
   "cell_type": "code",
   "execution_count": 34,
   "id": "5de523f3",
   "metadata": {},
   "outputs": [
    {
     "name": "stdout",
     "output_type": "stream",
     "text": [
      "Ranked Feature Importance:\n",
      "ratio_to_median_purchase_price    0.527171\n",
      "online_order                      0.169382\n",
      "distance_from_home                0.134910\n",
      "used_pin_number                   0.063928\n",
      "used_chip                         0.052078\n",
      "distance_from_last_transaction    0.045711\n",
      "repeat_retailer                   0.006820\n",
      "dtype: float64\n"
     ]
    }
   ],
   "source": [
    "X_train, X_test, y_train, y_test = train_test_split(X,y, test_size=0.2, random_state=42)\n",
    "rf_classifier = RandomForestClassifier(random_state=42)\n",
    "rf_classifier.fit(X_train,y_train)\n",
    "feature_importances = pd.Series(rf_classifier.feature_importances_, index=X.columns).sort_values(ascending=False)\n",
    "print(\"Ranked Feature Importance:\")\n",
    "print(feature_importances)"
   ]
  },
  {
   "cell_type": "code",
   "execution_count": null,
   "id": "6adb7532",
   "metadata": {},
   "outputs": [],
   "source": []
  },
  {
   "cell_type": "markdown",
   "id": "918982eb",
   "metadata": {},
   "source": [
    "# building credit card fraud detection model with random forest.py"
   ]
  },
  {
   "cell_type": "code",
   "execution_count": 42,
   "id": "2df20c00",
   "metadata": {},
   "outputs": [],
   "source": [
    "X = data.drop(\"fraud\",axis=1)\n",
    "y = data[\"fraud\"]"
   ]
  },
  {
   "cell_type": "code",
   "execution_count": 43,
   "id": "3e54ac1a",
   "metadata": {},
   "outputs": [
    {
     "name": "stdout",
     "output_type": "stream",
     "text": [
      "\n",
      "Randomly sampled features for new transaction:\n",
      "        distance_from_home  distance_from_last_transaction  \\\n",
      "999723            3.464505                        1.758804   \n",
      "\n",
      "        ratio_to_median_purchase_price  repeat_retailer  used_chip  \\\n",
      "999723                        1.140764              1.0        0.0   \n",
      "\n",
      "        used_pin_number  online_order  \n",
      "999723              0.0           0.0  \n",
      "\n",
      "Prediction for new transaction:\n",
      "Legitimate\n"
     ]
    }
   ],
   "source": [
    "X_train, X_test, y_train, y_test = train_test_split(X,y, test_size=0.2, random_state=42)\n",
    "rf_classifier = RandomForestClassifier(random_state=42)\n",
    "rf_classifier.fit(X_train,y_train)\n",
    "new_transaction_features = data.sample(1).drop('fraud',axis=1)\n",
    "print(\"\\nRandomly sampled features for new transaction:\")\n",
    "print(new_transaction_features)\n",
    "prediction = rf_classifier.predict(new_transaction_features)\n",
    "print(\"\\nPrediction for new transaction:\")\n",
    "print(\"Fraud\" if prediction[0] == 1 else \"Legitimate\")"
   ]
  },
  {
   "cell_type": "code",
   "execution_count": 44,
   "id": "0c217ab3",
   "metadata": {},
   "outputs": [
    {
     "name": "stdout",
     "output_type": "stream",
     "text": [
      "\n",
      "Prediction for new transaction:\n",
      "Legitimate\n"
     ]
    }
   ],
   "source": [
    "new_transaction_features1 = pd.DataFrame({\n",
    "    'distance_from_home': [85],\n",
    "    'distance_from_last_transaction': [75],\n",
    "    'ratio_to_median_purchase_price': [5.1],\n",
    "    'repeat_retailer': [0],\n",
    "    'used_chip': [1],\n",
    "    'used_pin_number': [10],\n",
    "    'online_order': [0]\n",
    "})\n",
    "prediction = rf_classifier.predict(new_transaction_features1)\n",
    "print(\"\\nPrediction for new transaction:\")\n",
    "print(\"Fraud\" if prediction[0] == 1 else \"Legitimate\")"
   ]
  },
  {
   "cell_type": "code",
   "execution_count": null,
   "id": "e579d8ed",
   "metadata": {},
   "outputs": [],
   "source": []
  },
  {
   "cell_type": "code",
   "execution_count": null,
   "id": "8ed32128",
   "metadata": {},
   "outputs": [],
   "source": []
  },
  {
   "cell_type": "code",
   "execution_count": 45,
   "id": "24b6b79f",
   "metadata": {},
   "outputs": [],
   "source": [
    "from sklearn.model_selection import train_test_split\n",
    "from sklearn.linear_model import LogisticRegression\n",
    "from sklearn.preprocessing import StandardScaler\n",
    "from sklearn.metrics import precision_score, recall_score, f1_score\n",
    "from sklearn.metrics import accuracy_score"
   ]
  },
  {
   "cell_type": "code",
   "execution_count": 46,
   "id": "45026822",
   "metadata": {},
   "outputs": [],
   "source": [
    "X = data.drop(\"fraud\",axis=1)\n",
    "y = data[\"fraud\"]"
   ]
  },
  {
   "cell_type": "code",
   "execution_count": 49,
   "id": "13815ecd",
   "metadata": {},
   "outputs": [
    {
     "name": "stdout",
     "output_type": "stream",
     "text": [
      "\n",
      "Prediction for New Transaction:\n",
      "Legitimate\n"
     ]
    }
   ],
   "source": [
    "X_train, X_test, y_train, y_test = train_test_split(X, y, test_size=0.2, random_state=42)\n",
    "scaler = StandardScaler()\n",
    "X_train_scaled = scaler.fit_transform(X_train)\n",
    "X_test_scaled = scaler.fit_transform(X_test)\n",
    "logreg_classifier = LogisticRegression(max_iter=1000, random_state=42)\n",
    "logreg_classifier.fit(X_train_scaled,y_train)\n",
    "new_transaction_features1 = pd.DataFrame({\n",
    "    'distance_from_home': [89],\n",
    "    'distance_from_last_transaction': [15],\n",
    "    'ratio_to_median_purchase_price': [2.3],\n",
    "    'repeat_retailer': [1],\n",
    "    'used_chip': [0],\n",
    "    'used_pin_number': [1],\n",
    "    'online_order': [1]})\n",
    "prediction = logreg_classifier.predict(scaler.transform(new_transaction_features1))\n",
    "print(\"\\nPrediction for New Transaction:\")\n",
    "print(\"Fraud\" if prediction[0] == 1 else \"Legitimate\")"
   ]
  },
  {
   "cell_type": "code",
   "execution_count": 50,
   "id": "ded6cbb1",
   "metadata": {},
   "outputs": [
    {
     "name": "stdout",
     "output_type": "stream",
     "text": [
      "\n",
      "Evaluation Metrics:\n",
      "Precision: 0.8900\n",
      "Recall: 0.5975\n",
      "f1 score: 0.7150\n",
      "accuracy: 0.9585\n"
     ]
    }
   ],
   "source": [
    "y_pred = logreg_classifier.predict(X_test_scaled)\n",
    "precision = precision_score(y_test,y_pred)\n",
    "recall = recall_score(y_test,y_pred)\n",
    "f1 = f1_score(y_test,y_pred)\n",
    "accuracy = accuracy_score(y_test,y_pred)\n",
    "print(\"\\nEvaluation Metrics:\")\n",
    "print(f\"Precision: {precision:.4f}\")\n",
    "print(f\"Recall: {recall:.4f}\")\n",
    "print(f\"f1 score: {f1:.4f}\")\n",
    "print(f\"accuracy: {accuracy:.4f}\")"
   ]
  },
  {
   "cell_type": "code",
   "execution_count": null,
   "id": "4f7f67e3",
   "metadata": {},
   "outputs": [],
   "source": []
  }
 ],
 "metadata": {
  "kernelspec": {
   "display_name": "Python 3 (ipykernel)",
   "language": "python",
   "name": "python3"
  },
  "language_info": {
   "codemirror_mode": {
    "name": "ipython",
    "version": 3
   },
   "file_extension": ".py",
   "mimetype": "text/x-python",
   "name": "python",
   "nbconvert_exporter": "python",
   "pygments_lexer": "ipython3",
   "version": "3.9.12"
  }
 },
 "nbformat": 4,
 "nbformat_minor": 5
}
